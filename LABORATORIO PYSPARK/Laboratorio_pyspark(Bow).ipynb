{
  "nbformat": 4,
  "nbformat_minor": 0,
  "metadata": {
    "colab": {
      "name": "Laboratorio pyspark(Bow).ipynb",
      "provenance": []
    },
    "kernelspec": {
      "name": "python3",
      "display_name": "Python 3"
    },
    "language_info": {
      "name": "python"
    }
  },
  "cells": [
    {
      "cell_type": "markdown",
      "source": [
        "# **Laboratorio pyspark(Bow)**\n",
        "\n",
        "> **AUTOR :** Sarco Jacinto Daniel Eduardo.\n",
        "\n",
        "> **CODIGO :** 174452."
      ],
      "metadata": {
        "id": "IhP5B2zPDSFA"
      }
    },
    {
      "cell_type": "markdown",
      "source": [
        "##**Librerias Utilizar**##"
      ],
      "metadata": {
        "id": "xRcV5_LJDgJ4"
      }
    },
    {
      "cell_type": "code",
      "source": [
        "!pip install pyspark"
      ],
      "metadata": {
        "colab": {
          "base_uri": "https://localhost:8080/"
        },
        "id": "Ygu0CxLHDhSy",
        "outputId": "848ad753-27e7-4319-f53a-ec3120259699"
      },
      "execution_count": null,
      "outputs": [
        {
          "output_type": "stream",
          "name": "stdout",
          "text": [
            "Collecting pyspark\n",
            "  Downloading pyspark-3.2.0.tar.gz (281.3 MB)\n",
            "\u001b[K     |████████████████████████████████| 281.3 MB 40 kB/s \n",
            "\u001b[?25hCollecting py4j==0.10.9.2\n",
            "  Downloading py4j-0.10.9.2-py2.py3-none-any.whl (198 kB)\n",
            "\u001b[K     |████████████████████████████████| 198 kB 67.5 MB/s \n",
            "\u001b[?25hBuilding wheels for collected packages: pyspark\n",
            "  Building wheel for pyspark (setup.py) ... \u001b[?25l\u001b[?25hdone\n",
            "  Created wheel for pyspark: filename=pyspark-3.2.0-py2.py3-none-any.whl size=281805912 sha256=70885cf31d89f721a0884fee0ab361581d86cdf7a17ea76e3a1fd5d2d9442952\n",
            "  Stored in directory: /root/.cache/pip/wheels/0b/de/d2/9be5d59d7331c6c2a7c1b6d1a4f463ce107332b1ecd4e80718\n",
            "Successfully built pyspark\n",
            "Installing collected packages: py4j, pyspark\n",
            "Successfully installed py4j-0.10.9.2 pyspark-3.2.0\n"
          ]
        }
      ]
    },
    {
      "cell_type": "code",
      "source": [
        "from pyspark import SparkContext\n",
        "from pyspark import SparkContext, SparkConf\n",
        "sc = SparkContext()"
      ],
      "metadata": {
        "id": "HKu7DdUCDiF5"
      },
      "execution_count": null,
      "outputs": []
    },
    {
      "cell_type": "code",
      "source": [
        "import math\n",
        "from pyspark.sql.functions import *"
      ],
      "metadata": {
        "id": "A1mvffXuTfaq"
      },
      "execution_count": 77,
      "outputs": []
    },
    {
      "cell_type": "markdown",
      "source": [
        ">**Bag of Word**"
      ],
      "metadata": {
        "id": "8Q-yUrumDxfw"
      }
    },
    {
      "cell_type": "code",
      "source": [
        "def Preprocesamiento(pNombreArchivo):\n",
        "    #Arreglo donde almacenaremos nuestras tuplas\n",
        "    ArregloTuplas=[]\n",
        "    #Leemos el archivo .txt\n",
        "    novaRDD = sc.textFile(pNombreArchivo)\n",
        "    #Eliminarmos las lineas vacias del archivo  \n",
        "    novaRDD = novaRDD.filter(lambda x : x is not '').collect()\n",
        "    i=1#Contador para defenir el IdDocumento que estamos trabajando\n",
        "    for Linea in novaRDD:#Cada linea del archivo .txt representa un documento\n",
        "      Tupla=(i,Linea)#Tiene la forma (idDocumento,Una linea del documento)\n",
        "      ArregloTuplas.append(Tupla)#Agregamos la tupla a nuestro arreglo\n",
        "      i+=1#Incrementamos el contador\n",
        "    return ArregloTuplas#Retornamos el arreglo de tuplas(data)\n",
        "def Get_bow(pCorpus,pParticiones=4):\n",
        "  linesRDD=sc.parallelize(pCorpus,pParticiones)\n",
        "  parTokenRDD=linesRDD.flatMap(lambda x: [((x[0],i.lower()),1) for i in x[1].split()])\n",
        "  return parTokenRDD"
      ],
      "metadata": {
        "id": "AXII-z3MDvD_"
      },
      "execution_count": 103,
      "outputs": []
    },
    {
      "cell_type": "code",
      "source": [
        "Data=Preprocesamiento(\"twitts.txt\")\n",
        "BoW=Get_bow(Data)\n",
        "BoW.take(20)"
      ],
      "metadata": {
        "colab": {
          "base_uri": "https://localhost:8080/"
        },
        "id": "_6cRSOJdR74z",
        "outputId": "ba10b790-088a-4d4a-d998-1887d269dbeb"
      },
      "execution_count": 104,
      "outputs": [
        {
          "output_type": "execute_result",
          "data": {
            "text/plain": [
              "[((1, 'protester'), 1),\n",
              " ((1, 'stage'), 1),\n",
              " ((1, 'diein'), 1),\n",
              " ((1, 'protest'), 1),\n",
              " ((1, 'store'), 1),\n",
              " ((1, 'nyc'), 1),\n",
              " ((1, 'anger'), 1),\n",
              " ((1, 'misplace'), 1),\n",
              " ((1, 'retweet'), 1),\n",
              " ((1, 'agree'), 1),\n",
              " ((2, 'apple'), 1),\n",
              " ((2, 'intraday'), 1),\n",
              " ((2, 'comment'), 1),\n",
              " ((2, 'update'), 1),\n",
              " ((2, 'range'), 1),\n",
              " ((2, 'premium'), 1),\n",
              " ((2, 'user'), 1),\n",
              " ((2, 'aapl'), 1),\n",
              " ((2, 'stockaction'), 1),\n",
              " ((2, 'trading'), 1)]"
            ]
          },
          "metadata": {},
          "execution_count": 104
        }
      ]
    },
    {
      "cell_type": "markdown",
      "source": [
        ">TF"
      ],
      "metadata": {
        "id": "BYRHKJZxSzdq"
      }
    },
    {
      "cell_type": "code",
      "source": [
        "def Get_frecuencias(RDD):\n",
        "  #obtenemos la frecuencia de palabras por documento\n",
        "  return RDD.reduceByKey(lambda x,y:x+y)"
      ],
      "metadata": {
        "id": "VkwP2RXMSyla"
      },
      "execution_count": 105,
      "outputs": []
    },
    {
      "cell_type": "code",
      "source": [
        "def Get_TF(RDD):\n",
        "  frecuenciasRDD=Get_frecuencias(RDD)\n",
        "  # Mapear el RDD\n",
        "  return frecuenciasRDD.map(lambda x: (x[0][1],(x[0][0],x[1])))"
      ],
      "metadata": {
        "id": "IDSdER-BS_xp"
      },
      "execution_count": 116,
      "outputs": []
    },
    {
      "cell_type": "code",
      "source": [
        "NroDoc=len(Data)\n",
        "BoW=Get_bow(Data)\n",
        "TF=Get_TF(BoW)\n",
        "TF.take(10)"
      ],
      "metadata": {
        "colab": {
          "base_uri": "https://localhost:8080/"
        },
        "id": "lYbx7GNBV3xH",
        "outputId": "b64c6b21-21d5-4bf7-cfeb-f56a3511be81"
      },
      "execution_count": 117,
      "outputs": [
        {
          "output_type": "execute_result",
          "data": {
            "text/plain": [
              "[('protester', (1, 1)),\n",
              " ('diein', (1, 1)),\n",
              " ('aapl', (2, 1)),\n",
              " ('stockaction', (2, 1)),\n",
              " ('iphone', (3, 1)),\n",
              " ('shit', (4, 1)),\n",
              " ('ridiculous', (5, 1)),\n",
              " ('suicide', (8, 1)),\n",
              " ('turkey', (8, 1)),\n",
              " ('ipod', (9, 1))]"
            ]
          },
          "metadata": {},
          "execution_count": 117
        }
      ]
    },
    {
      "cell_type": "markdown",
      "source": [
        ">IDF"
      ],
      "metadata": {
        "id": "pvLuFCmqTcWx"
      }
    },
    {
      "cell_type": "code",
      "source": [
        "def Get_IDF(RDD,NroDoc):\n",
        "  FRDD=Get_frecuencias(RDD)\n",
        "  # Mapeamos para colocar cada token como valor clave.\n",
        "  TRDD=FRDD.map(lambda x: (x[0][1],(x[0][0],x[1],1)))\n",
        "  # Extraemos el token y su ocurrencia por documento\n",
        "  TODRDD=TRDD.map(lambda x:(x[0],x[1][2]))\n",
        "  # contamos la contidad de documentos que contienen un token\n",
        "  TRDD=TODRDD.reduceByKey(lambda x,y:x+y)\n",
        "  #calculamos el logaritmo para el IDF\n",
        "  IDFRDD=TRDD.map(lambda x: (x[0],math.log10(NroDoc/x[1])))\n",
        "  return IDFRDD"
      ],
      "metadata": {
        "id": "nBAleXPOTdfo"
      },
      "execution_count": 107,
      "outputs": []
    },
    {
      "cell_type": "code",
      "source": [
        "NroDoc=len(Data)\n",
        "BoW=Get_bow(Data)\n",
        "IDF=Get_IDF(BoW,NroDoc)\n",
        "IDF.take(10)"
      ],
      "metadata": {
        "colab": {
          "base_uri": "https://localhost:8080/"
        },
        "id": "zB3YPhmqTbwi",
        "outputId": "d47b3eee-354b-4ced-e3f6-6dd4d0430541"
      },
      "execution_count": 112,
      "outputs": [
        {
          "output_type": "execute_result",
          "data": {
            "text/plain": [
              "[('aapl', 0.5944950710074257),\n",
              " ('stockaction', 2.0249643045063834),\n",
              " ('feedback', 3.104145550554008),\n",
              " ('iwatch', 2.627024295834346),\n",
              " ('accessory', 2.979206813945708),\n",
              " ('turn', 2.1662934573028525),\n",
              " ('facetime', 2.4351387695954325),\n",
              " ('seamlessly', 3.2802368096096894),\n",
              " ('airport', 3.5812668052736707),\n",
              " ('board', 2.882296800937652)]"
            ]
          },
          "metadata": {},
          "execution_count": 112
        }
      ]
    },
    {
      "cell_type": "markdown",
      "source": [
        ">TF-IDF"
      ],
      "metadata": {
        "id": "zO6zAr42VvaH"
      }
    },
    {
      "cell_type": "code",
      "source": [
        "def Get_TF_IDF(RDD,NroDoc):\n",
        "  #Obtener el RDD con el iddocumento y la frecuencia de cada token\n",
        "  TFRDD=Get_TF(RDD)\n",
        "  #Obtenemos las puntuaciones IDF\n",
        "  IDFRDD=Get_IDF(RDD,NroDoc)\n",
        "  #Combinar para asignar a cada token un id de documento, frecuencia y puntuación IDF\n",
        "  Tf_IDFRDD=TFRDD.join(IDFRDD)\n",
        "  #Multiplicamos los valores de TF e IDF\n",
        "  Tf_IDFRDD=Tf_IDFRDD.map(lambda x: (x[1][0][0],(x[0],x[1][0][1],x[1][1],x[1][0][1]*x[1][1]))).sortByKey()\n",
        "  #Reorganizamos el RDD para tener mejor comprension\n",
        "  Tf_IDFRDD=Tf_IDFRDD.map(lambda x: (x[0],x[1][0],x[1][1],x[1][2],x[1][3]))\n",
        "  return Tf_IDFRDD"
      ],
      "metadata": {
        "id": "ImpJ3gQ2Vuvh"
      },
      "execution_count": 127,
      "outputs": []
    },
    {
      "cell_type": "code",
      "source": [
        "NroDoc=len(Data)\n",
        "BoW=Get_bow(Data)\n",
        "TF_IDF=Get_TF_IDF(BoW,NroDoc)\n",
        "TF_IDF.take(30)"
      ],
      "metadata": {
        "colab": {
          "base_uri": "https://localhost:8080/"
        },
        "id": "VwI4JFnXWmMX",
        "outputId": "ea24477f-0422-4ee5-9017-e9b7a5ed933c"
      },
      "execution_count": 129,
      "outputs": [
        {
          "output_type": "execute_result",
          "data": {
            "text/plain": [
              "[(1, 'store', 1, 1.105595616949241, 1.105595616949241),\n",
              " (1, 'diein', 1, 1.399423217328898, 1.399423217328898),\n",
              " (1, 'retweet', 1, 1.399423217328898, 1.399423217328898),\n",
              " (1, 'agree', 1, 1.3690792008697128, 1.3690792008697128),\n",
              " (1, 'stage', 1, 1.3798696809532192, 1.3798696809532192),\n",
              " (1, 'nyc', 1, 1.353380100659997, 1.353380100659997),\n",
              " (1, 'protester', 1, 1.388142206919209, 1.388142206919209),\n",
              " (1, 'protest', 1, 1.377146822617746, 1.377146822617746),\n",
              " (1, 'anger', 1, 1.388142206919209, 1.388142206919209),\n",
              " (1, 'misplace', 1, 1.390935107103379, 1.390935107103379),\n",
              " (2, 'range', 1, 2.2195389692560776, 2.2195389692560776),\n",
              " (2, 'trading', 1, 1.928054291498327, 1.928054291498327),\n",
              " (2, 'stock', 1, 1.457415164306585, 1.457415164306585),\n",
              " (2, 'mkt', 1, 1.968482948553935, 1.968482948553935),\n",
              " (2, 'update', 1, 1.3937460844372076, 1.3937460844372076),\n",
              " (2, 'apple', 1, 0.578668824553762, 0.578668824553762),\n",
              " (2, 'intraday', 1, 1.6270242958343457, 1.6270242958343457),\n",
              " (2, 'premium', 1, 2.076116826953765, 2.076116826953765),\n",
              " (2, 'aapl', 1, 0.5944950710074257, 0.5944950710074257),\n",
              " (2, 'stockaction', 1, 2.0249643045063834, 2.0249643045063834),\n",
              " (2, 'user', 1, 1.8178388117107334, 1.8178388117107334),\n",
              " (2, 'comment', 1, 2.076116826953765, 2.076116826953765),\n",
              " (3, '2014', 1, 1.8330787782674702, 1.8330787782674702),\n",
              " (3, 'app', 2, 1.4639955096179063, 2.9279910192358125),\n",
              " (3, 'ios', 1, 1.7424177145364153, 1.7424177145364153),\n",
              " (3, 'name', 1, 2.1662934573028525, 2.1662934573028525),\n",
              " (3, 'brain', 1, 3.104145550554008, 3.104145550554008),\n",
              " (3, 'elevate', 1, 2.4673234529668338, 2.4673234529668338),\n",
              " (3, 'training', 1, 3.2802368096096894, 3.2802368096096894),\n",
              " (3, 'iphone', 1, 0.9913172039479629, 0.9913172039479629)]"
            ]
          },
          "metadata": {},
          "execution_count": 129
        }
      ]
    }
  ]
}