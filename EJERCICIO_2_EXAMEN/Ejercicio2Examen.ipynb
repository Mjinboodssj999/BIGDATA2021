{
 "cells": [
  {
   "cell_type": "code",
   "execution_count": 25,
   "id": "ba72f70c",
   "metadata": {},
   "outputs": [],
   "source": [
    "mcm :: Integral a => [a] -> a\n",
    "mcm [] = 1\n",
    "mcm (x:xs) = foldr lcm 1 xs"
   ]
  },
  {
   "cell_type": "code",
   "execution_count": 30,
   "id": "573f3c41",
   "metadata": {},
   "outputs": [
    {
     "data": {
      "text/plain": [
       "5.0"
      ]
     },
     "metadata": {},
     "output_type": "display_data"
    }
   ],
   "source": [
    "mediaDivN :: Integer -> Integer -> Float\n",
    "mediaDivN d n = fromIntegral x1 * fromIntegral (n+1) /2 -- hallamos la media\n",
    " where\n",
    "  -- calculamos el minimo comun multiplo\n",
    "  x1 = mcm [1..d]\n",
    "\n",
    "mediaDivN 2 4\n"
   ]
  }
 ],
 "metadata": {
  "kernelspec": {
   "display_name": "Haskell",
   "language": "haskell",
   "name": "haskell"
  },
  "language_info": {
   "codemirror_mode": "ihaskell",
   "file_extension": ".hs",
   "mimetype": "text/x-haskell",
   "name": "haskell",
   "pygments_lexer": "Haskell",
   "version": "8.10.7"
  }
 },
 "nbformat": 4,
 "nbformat_minor": 5
}
