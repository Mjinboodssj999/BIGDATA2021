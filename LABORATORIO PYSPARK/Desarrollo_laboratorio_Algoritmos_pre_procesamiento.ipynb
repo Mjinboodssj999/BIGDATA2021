{
  "nbformat": 4,
  "nbformat_minor": 0,
  "metadata": {
    "colab": {
      "name": "Desarrollo_laboratorio_Algoritmos pre-procesamiento.ipynb",
      "provenance": []
    },
    "kernelspec": {
      "name": "python3",
      "display_name": "Python 3"
    },
    "language_info": {
      "name": "python"
    }
  },
  "cells": [
    {
      "cell_type": "markdown",
      "source": [
        "# **Laboratorio pyspark**\n",
        "\n",
        "> **AUTOR :** Sarco Jacinto Daniel Eduardo.\n",
        "\n",
        "> **CODIGO :** 174452."
      ],
      "metadata": {
        "id": "_N9oVe0PtY9d"
      }
    },
    {
      "cell_type": "markdown",
      "source": [
        "##**Librerias Utilizar**##"
      ],
      "metadata": {
        "id": "wFgMjC8Ytylk"
      }
    },
    {
      "cell_type": "code",
      "execution_count": 11,
      "metadata": {
        "colab": {
          "base_uri": "https://localhost:8080/"
        },
        "id": "yQ6jPs4CtWNJ",
        "outputId": "bb31a39c-0a11-4118-877e-09735c5637e1"
      },
      "outputs": [
        {
          "output_type": "stream",
          "name": "stdout",
          "text": [
            "Requirement already satisfied: pyspark in /usr/local/lib/python3.7/dist-packages (3.2.0)\n",
            "Requirement already satisfied: py4j==0.10.9.2 in /usr/local/lib/python3.7/dist-packages (from pyspark) (0.10.9.2)\n"
          ]
        }
      ],
      "source": [
        "!pip install pyspark"
      ]
    },
    {
      "cell_type": "code",
      "source": [
        "from pyspark import SparkContext\n",
        "sc = SparkContext()"
      ],
      "metadata": {
        "id": "QS8ZmN7JvMn1"
      },
      "execution_count": 7,
      "outputs": []
    },
    {
      "cell_type": "code",
      "source": [
        "import math\n",
        "from scipy import spatial"
      ],
      "metadata": {
        "id": "gprtJOGVujAE"
      },
      "execution_count": 85,
      "outputs": []
    },
    {
      "cell_type": "markdown",
      "source": [
        "## 1.- Normalizacion##"
      ],
      "metadata": {
        "id": "KdWYkUvkuG1b"
      }
    },
    {
      "cell_type": "code",
      "source": [
        "VX1 = [2,4,3,4]\n",
        "'''\n",
        "Creamos nuestro RDD\n",
        "'''\n",
        "NRDD1 = sc.parallelize(VX1)"
      ],
      "metadata": {
        "id": "IYfR_dpkuO-F"
      },
      "execution_count": 65,
      "outputs": []
    },
    {
      "cell_type": "code",
      "source": [
        "'''\n",
        "Elevamos al cuadrado los datos del\n",
        "RDD creado y los sumamos para luego sacar la raiz cuadrada\n",
        "'''\n",
        "SNRDD1 = (NRDD1.map(lambda x: x**2).sum()) ** (1/2)\n",
        "'''\n",
        "Dividimos todo los datos del RDD\n",
        "'''\n",
        "DRDD1 = NRDD1.map(lambda x: x/SNRDD1)\n",
        "'''\n",
        "Mostramos la normalizacion de los datos\n",
        "'''\n",
        "DRDD1.collect()"
      ],
      "metadata": {
        "colab": {
          "base_uri": "https://localhost:8080/"
        },
        "id": "tYXU0GVWuqRa",
        "outputId": "2fb9e133-2d15-421b-d208-c24084cc2c7e"
      },
      "execution_count": 64,
      "outputs": [
        {
          "output_type": "execute_result",
          "data": {
            "text/plain": [
              "[0.29814239699997197,\n",
              " 0.5962847939999439,\n",
              " 0.4472135954999579,\n",
              " 0.5962847939999439]"
            ]
          },
          "metadata": {},
          "execution_count": 64
        }
      ]
    },
    {
      "cell_type": "markdown",
      "source": [
        "## 2.- Estandarizacion##"
      ],
      "metadata": {
        "id": "rGrXLtGyuwXz"
      }
    },
    {
      "cell_type": "code",
      "source": [
        "VX2 = [1130,12313,1700,1223,1534]\n",
        "'''\n",
        "Creamos nuestro RDD\n",
        "'''\n",
        "NRDD2 = sc.parallelize(VX2)"
      ],
      "metadata": {
        "id": "NQgjGBkfxMxp"
      },
      "execution_count": 45,
      "outputs": []
    },
    {
      "cell_type": "code",
      "source": [
        "'''\n",
        "Determinamos la media\n",
        "'''\n",
        "MRDD = NRDD2.mean()\n",
        "'''\n",
        "Determinamos la varianza\n",
        "'''\n",
        "VRDD = NRDD2.map(lambda x: (x - MRDD)**2).mean()\n",
        "'''\n",
        "hallamos el std\n",
        "'''\n",
        "STDRDD = math.sqrt(VRDD)\n",
        "'''\n",
        "obtenemos el valor de la estandarizacion\n",
        "'''\n",
        "ERDD = NRDD2.map(lambda x: (x-MRDD) / STDRDD)\n",
        "'''\n",
        "Mostramos los resultados\n",
        "'''\n",
        "ERDD.collect()"
      ],
      "metadata": {
        "colab": {
          "base_uri": "https://localhost:8080/"
        },
        "id": "bKa5hYu6xgUw",
        "outputId": "d46a1d2f-3d4e-4699-9aa1-a858b0647fff"
      },
      "execution_count": 63,
      "outputs": [
        {
          "output_type": "execute_result",
          "data": {
            "text/plain": [
              "[-0.5604668571728579,\n",
              " 1.997778393343089,\n",
              " -0.4300725271367236,\n",
              " -0.5391919927985412,\n",
              " -0.46804701623496625]"
            ]
          },
          "metadata": {},
          "execution_count": 63
        }
      ]
    },
    {
      "cell_type": "markdown",
      "source": [
        "## 3.- Distancia de Jaccard##"
      ],
      "metadata": {
        "id": "ejBsivRbzD0H"
      }
    },
    {
      "cell_type": "code",
      "source": [
        "VX3A = [1,4,2,8]\n",
        "VX3B = [7,5,3,1]"
      ],
      "metadata": {
        "id": "rP5IHdaAywpe"
      },
      "execution_count": 48,
      "outputs": []
    },
    {
      "cell_type": "code",
      "source": [
        "'''\n",
        "Creamos otro vector donde tendremos una tupla con la funcion \"\"zip\" para juntar 2 vectores\n",
        "'''\n",
        "VX3C = list(zip(VX3A,VX3B))"
      ],
      "metadata": {
        "id": "U3_KBG3qzTkX"
      },
      "execution_count": 49,
      "outputs": []
    },
    {
      "cell_type": "code",
      "source": [
        "'''\n",
        "Creamos nuestro RDD con el vector final\n",
        "'''\n",
        "NRDD3 = sc.parallelize(VX3C)"
      ],
      "metadata": {
        "id": "IOs4hAwbznmW"
      },
      "execution_count": 50,
      "outputs": []
    },
    {
      "cell_type": "code",
      "source": [
        "'''\n",
        "#Calcular la suma de los productos\n",
        "'''\n",
        "SRDD = NRDD3.map(lambda x: x[0]*x[1]).sum()\n",
        "'''\n",
        "#Usamos map para 3 casos: 1 _=1; _ 1=1; _ _=0\n",
        "'''\n",
        "SCRDD = NRDD3.map(lambda x: 1 if (x[0]==1 or x[1]==1) else 0 ).sum()\n",
        "'''\n",
        "Dividimos el resultado y restamos 1\n",
        "'''\n",
        "JRDD = 1 - (SRDD / SCRDD)\n",
        "'''\n",
        "Mostramos los resultados\n",
        "'''\n",
        "print(JRDD)"
      ],
      "metadata": {
        "colab": {
          "base_uri": "https://localhost:8080/"
        },
        "id": "hHplhSZ9zvkX",
        "outputId": "bc03733b-4a39-4403-b63c-a4c1190c8f9e"
      },
      "execution_count": 53,
      "outputs": [
        {
          "output_type": "stream",
          "name": "stdout",
          "text": [
            "-19.5\n"
          ]
        }
      ]
    },
    {
      "cell_type": "markdown",
      "source": [
        "## 4.- Escalonamiento##"
      ],
      "metadata": {
        "id": "ZO8l1mJ10jnH"
      }
    },
    {
      "cell_type": "code",
      "source": [
        "VX4 = [3,4,6,9,12,13,14,18,23,34,50,70]"
      ],
      "metadata": {
        "id": "t6gzlgtb0jN3"
      },
      "execution_count": 54,
      "outputs": []
    },
    {
      "cell_type": "code",
      "source": [
        "'''\n",
        "Creamos nuestro RDD con el vector \n",
        "'''\n",
        "NRDD4 = sc.parallelize(VX4)"
      ],
      "metadata": {
        "id": "Tc2J4Pbl00SO"
      },
      "execution_count": 62,
      "outputs": []
    },
    {
      "cell_type": "code",
      "source": [
        "'''\n",
        "Determianr el valor maximo del RDD\n",
        "'''\n",
        "MiRDD = NRDD4.max()\n",
        "'''\n",
        "Determianr el valor minimo del RDD\n",
        "'''\n",
        "MaRDD = NRDD4.min()\n",
        "'''\n",
        "Determinar el escalonamiento con las variables minimas y maximas\n",
        "'''\n",
        "SRDD = NRDD4.map(lambda x: (x - MiRDD) / (MaRDD - MiRDD))\n",
        "'''\n",
        "Mostramos los resultados\n",
        "'''\n",
        "SRDD.collect()"
      ],
      "metadata": {
        "colab": {
          "base_uri": "https://localhost:8080/"
        },
        "id": "LmpXUjHw02nF",
        "outputId": "59ad8f5c-7456-4a1c-db36-cc445eec8424"
      },
      "execution_count": 56,
      "outputs": [
        {
          "output_type": "execute_result",
          "data": {
            "text/plain": [
              "[1.0,\n",
              " 0.9850746268656716,\n",
              " 0.9552238805970149,\n",
              " 0.9104477611940298,\n",
              " 0.8656716417910447,\n",
              " 0.8507462686567164,\n",
              " 0.835820895522388,\n",
              " 0.7761194029850746,\n",
              " 0.7014925373134329,\n",
              " 0.5373134328358209,\n",
              " 0.29850746268656714,\n",
              " -0.0]"
            ]
          },
          "metadata": {},
          "execution_count": 56
        }
      ]
    },
    {
      "cell_type": "markdown",
      "source": [
        "## 5.- Similitud de Cosenos##"
      ],
      "metadata": {
        "id": "BJf_KUSB2UnE"
      }
    },
    {
      "cell_type": "code",
      "source": [
        "VX5A = [1, 1, 2, 1, 1, 1, 1, 0, 0, 0] \n",
        "VX5B = [1, 1, 1, 0, 1, 1, 1, 1, 1, 1] "
      ],
      "metadata": {
        "id": "l37XrWl22I3U"
      },
      "execution_count": 77,
      "outputs": []
    },
    {
      "cell_type": "code",
      "source": [
        "'''\n",
        "Creamos nuestro RDD con el vector final\n",
        "'''\n",
        "VX5C = list(zip(vector1,vector2))"
      ],
      "metadata": {
        "id": "nC49EH7S28U0"
      },
      "execution_count": 76,
      "outputs": []
    },
    {
      "cell_type": "code",
      "source": [
        "'''\n",
        "Creamos nuestro RDD con el vector final\n",
        "'''\n",
        "RDDVA = sc.parallelize(VX5A)\n",
        "RDDVB = sc.parallelize(VX5B)\n",
        "RDDVC = sc.parallelize(VX5C)"
      ],
      "metadata": {
        "id": "856ASx1s2cic"
      },
      "execution_count": 78,
      "outputs": []
    },
    {
      "cell_type": "code",
      "source": [
        "def Producto_tupla(pTupla):\n",
        "  return pTupla[0]*pTupla[1] #Calculo del producto"
      ],
      "metadata": {
        "id": "sVk_5Dtp4hK7"
      },
      "execution_count": 81,
      "outputs": []
    },
    {
      "cell_type": "code",
      "source": [
        "'''\n",
        "Calcular el producto interno\n",
        "'''\n",
        "PRDDVC=RDDVC.map(lambda x: x[0]*x[1]).sum()\n",
        "'''\n",
        "Calcular la norma de vector A\n",
        "'''\n",
        "NRDDVA= RDDVA.map(lambda x:x**2).sum()\n",
        "'''\n",
        "Calcular la norma de vector B\n",
        "'''\n",
        "NRDDVB= RDDVB.map(lambda x:x**2).sum()\n",
        "'''\n",
        "Resultado\n",
        "'''\n",
        "Resultado=(PRDDVC) / ( NRDDVA**(1/2) * NRDDVB**(1/2) )\n",
        "print(Resultado)"
      ],
      "metadata": {
        "colab": {
          "base_uri": "https://localhost:8080/"
        },
        "id": "khzGxwYV3Ox9",
        "outputId": "5830c9a1-7428-487b-b2aa-f49be26c66e1"
      },
      "execution_count": 96,
      "outputs": [
        {
          "output_type": "stream",
          "name": "stdout",
          "text": [
            "0.7378647873726218\n"
          ]
        }
      ]
    }
  ]
}