{
  "nbformat": 4,
  "nbformat_minor": 0,
  "metadata": {
    "colab": {
      "name": "Algoritmo Apriori.ipynb",
      "provenance": [],
      "collapsed_sections": []
    },
    "kernelspec": {
      "name": "python3",
      "display_name": "Python 3"
    },
    "language_info": {
      "name": "python"
    }
  },
  "cells": [
    {
      "cell_type": "markdown",
      "metadata": {
        "id": "iEGw-Gcaghr_"
      },
      "source": [
        "#Apriori\n",
        "```\n",
        "Versión   : Actividad 3\n",
        "Autor     : Daniel Eduardo Sarco Jacinto\n",
        "Lugar     : Cusco, Perú, 2021.\n",
        "Proposito : Implementación del algoritmo de Apriori\n",
        "```"
      ]
    },
    {
      "cell_type": "markdown",
      "metadata": {
        "id": "UEJhoSheKJgP"
      },
      "source": [
        "**Librerias a usar**"
      ]
    },
    {
      "cell_type": "code",
      "metadata": {
        "id": "lyc2iAyOge79"
      },
      "source": [
        "import numpy as np"
      ],
      "execution_count": 3,
      "outputs": []
    },
    {
      "cell_type": "markdown",
      "metadata": {
        "id": "G0qnfQwGU9Xf"
      },
      "source": [
        "#1. Implementar el algoritmo Apriori"
      ]
    },
    {
      "cell_type": "markdown",
      "metadata": {
        "id": "a4DztH5mVonw"
      },
      "source": [
        "Se debe implementar el algoritmo según lo visto en clases.\n",
        "Para estructurar mejor tu código, deberás implementar las siguientes funciones:\n",
        "\n",
        "\n",
        "1.   get_frequent_itemsets(playlists, min_support): Recibe la esctructura de datos que contiene a las playlists y retorna una estructura con los itemsets frecuentes, bajo un umbral mínimo de confianza.\n",
        "2.   generate_association_rules(frequent_itemsets, confidence = 0, lift = 0): Recibe los itemsets frecuentes generados por la función anterior y retorna las\n",
        "reglas de asociación. Se le puede entregar umbrales de confianza o lift para las\n",
        "reglas que se retornarán. Por ejemplo, si se llama esta función con los ar- gumentos confidence = 0.5 y lift = 1.2, se espera que se retornen aquellas reglas que cumplan con una confianza ≥ 0.5 y un lift ≥ 1.2. Puedes utilizar las estructuras de datos que estimes convenientes para representar\n",
        "\n",
        "la información, tanto de las playlists, los itemsets frecuentes y las reglas de asociación. Estas pueden ser lista de listas, numpy arrays o pandas DataFrames. Sin embargo, esto debe estar claramente documentado en el mismo notebook."
      ]
    },
    {
      "cell_type": "markdown",
      "metadata": {
        "id": "bLwF28AQKOm_"
      },
      "source": [
        "**Motodos Necesarios para el algoritmo apriori (metodos propios)**"
      ]
    },
    {
      "cell_type": "code",
      "metadata": {
        "id": "6MeUQgFA9IOK"
      },
      "source": [
        "\"\"\"\n",
        "Modulo para cargar el archivo spotify.npy con numpy\n",
        "\"\"\"\n",
        "def Leer_archivo_npy(nombre_archivo_npy):\n",
        "  data = np.load(nombre_archivo_npy,allow_pickle=True)#leemos el archivo\n",
        "  Lista_data=data.tolist()#Convertimo en en lista el Data leido\n",
        "  return Lista_data\n",
        "\"\"\"\n",
        "Metodo para verificar si un conjunto pertenece al un arreglo de conjunto\n",
        "\"\"\"\n",
        "def Verificar_conjunto_contenido_conjuntos(Conjuntos,ConjuntoEvaluar):\n",
        "  for i in Conjuntos:                      # Recorrer cada conjunto\n",
        "    ConjuntoEvaluar=set(ConjuntoEvaluar)   # Convertir en conjunto el ConjuntoEvaluado\n",
        "    if(ConjuntoEvaluar.issubset(set(i))):  # Verificar pertenecia de conjuntos\n",
        "      return True                          # retornar verdadero si pertence\n",
        "  return False                             # retornar falso si no pertenece\n",
        "\"\"\"\n",
        "Metodo para realizar un inner join entre 2 conjuntos y el parametro Tam para restringir que solo se quiere un arreglo de Tam elementos\n",
        "\"\"\"\n",
        "def InnerJoinConjuntos(Conjunto1,Conjunto2,Tam):\n",
        "  Conjunto_resultante=[]                          # Arreglo donde almacenaremos el nuevo conjunto generado\n",
        "  for Ele1 in Conjunto1:                          # Recorremos los elemento del Conjunto1\n",
        "    for Ele2 in Conjunto2:                        # Recorremos los elemento del Conjunto2\n",
        "      if(Ele1!=Ele2):                             # Verificar que los elementos del conjunto 1 y 2 no sean iguales \n",
        "          Arreglo=set()                           # Definimos un nuevo arreglo\n",
        "          Ele1.sort()                             # Ordenamos los elementos del conjunto 1\n",
        "          Ele2.sort()                             # Ordenamos los elementos del conjunto 2\n",
        "          ArregloAux1=set(Ele1[0:len(Ele1)-1])    # Almacenamos los elementos del conjunto 1 pero sin considerar el ultimo elemento\n",
        "          ArregloAux2=set(Ele2[0:len(Ele2)-1])    # Almacenamos los elementos del conjunto 2 pero sin considerar el ultimo elemento\n",
        "          if(ArregloAux1.issubset(ArregloAux2)):  # Verificar que los arreglo definidos esten incluido mutuamente\n",
        "            Arreglo|=set(Ele1)                    # Union de los conjuntos (Arreglo) y el elemento del conjunto 1\n",
        "            Arreglo|=set(Ele2)                    # Union de los conjuntos (Arreglo) y el elemento del conjunto 2\n",
        "            Arreglo=list(Arreglo)                 # Lo Convertimos en lista el conjunto(Arreglo)\n",
        "            Arreglo.sort()                        # Ordenenamos de menor a mayor el conjunto(Arreglo)\n",
        "            if(Tam==len(Arreglo) and not(Verificar_conjunto_contenido_conjuntos(Conjunto_resultante,Arreglo))): # Verficar que este conjunto no se repita y tambien que su tamaño sea igual\n",
        "              Conjunto_resultante.append(Arreglo) # Agregar el conjunto(Arreglo) a nuestro Conjunto_resultante\n",
        "  return Conjunto_resultante                      # Retornamos el Conjunto_resultante\n",
        "\n",
        "\"\"\"\n",
        "Metodo para llevar un arreglo unidimensional en un arreglo bidimensional\n",
        "\"\"\" \n",
        "def Convertir_unidimensional_bidimensional(Arreglo):\n",
        "  NuevoArreglo=[]             # Definir arrego\n",
        "  for i in Arreglo:           # Recorrer el Arreglo\n",
        "    NuevoArreglo.append([i])  # Agregar el elemento en el nuevo Arreglo\n",
        "  return NuevoArreglo         # Retornar NuevoArreglo\n",
        "\n",
        "\"\"\"\n",
        "Metodo para obtener los posibles candidatos de un data en general\n",
        "\"\"\" \n",
        "def Iteraciones_candidatos(playlists_arreglo,playlists_conjunto,min_support,playlists_candidatos_posibles,playlist_frecuencias_candidatos,nIteracion):\n",
        "  #Instrucciones la cual me ayudan a calcular la ocurrencia de las canciones\n",
        "  playlists_Frecuencia=[0]*len(playlists_conjunto)         # Definimos un arreglo donde se almacenara las frecuecias o Ocurrencias de los elementos de playlists_conjunto donde se inicializa en 0 \n",
        "  for i in range(len(playlists_arreglo)):                  # Recorremos los playlists de la plataforma spotify\n",
        "    playlist=set(playlists_arreglo[i])                     # Obtener un playlist de la plataforma spotify\n",
        "    for j in range(len(playlists_conjunto)):               # Recorremos las canciones del playlists_conjunto\n",
        "      Conjunto_playlist=set(playlists_conjunto[j])         # Cada cancion se convierte en un conjunto con el objetivo de realizar operaciones con conjunto\n",
        "      if(Conjunto_playlist.issubset(playlist)):            # Verificar que esa cancion extraida pertenezca al data en general(playlists_arreglo)\n",
        "        playlists_Frecuencia[j]=playlists_Frecuencia[j]+1  # Aumentamos su frecuencia de la cancion extraida\n",
        "  \n",
        "  #Estraer solo las canciones que cumple las condiciones\n",
        "  playlist_frecuentes=[]                                   # Definir un arreglo para agregar los candidatos posibles en cada interacion\n",
        "  playlist_frecuencias=[]                                  # Definir un arreglo para agregar las ocurrencias de los candidatos posibles en cada interacion\n",
        "  for i in range(len(playlists_Frecuencia)):               # Recorremos las frecuencia ya definidas\n",
        "    if((playlists_Frecuencia[i]/len(playlists_arreglo))>=min_support):            # Verificar que cada ocurrencia sea igual o mayor que el min_support\n",
        "      playlist_frecuentes.append(playlists_conjunto[i])    # Agregamos las canciones candidatas\n",
        "      playlist_frecuencias.append(playlists_Frecuencia[i]) # Agregamos las las fecuencias correnpodinetes a cada cancion candidata\n",
        "\n",
        "  #Verificar si vamos a llevar realizar una nueva interacion hasta el final\n",
        "  if(len(playlist_frecuentes)<=0):                         # Si no hay candidatos significa que terminamos de iterar\n",
        "    return [],[]                                           # retornamos nulo por que es el final de la recursividad\n",
        "  else:                                                    # En caso de haber candidatos que cumpla la condicion se procede iterar uno nuevo\n",
        "    playlists_candidatos_posibles.append(playlist_frecuentes)  # Agregar el playlist_frecuentes en nuestro arreglo playlists_candidatos_posibles\n",
        "    playlist_frecuencias_candidatos.append(playlist_frecuencias) # Agregar el playlist_frecuencias en nuestro arreglo playlist_frecuencias_candidatos\n",
        "    playlists_conjunto=InnerJoinConjuntos(playlist_frecuentes,playlist_frecuentes,nIteracion+2) # Realizamos un inner join entre playlist_frecuentes y playlist_frecuentes y incrementamos la interacion\n",
        "    Nueva_Iteracion,Nueva_frecuencias=Iteraciones_candidatos(playlists_arreglo,playlists_conjunto,min_support,playlists_candidatos_posibles,playlist_frecuencias_candidatos,nIteracion+1) # Llamos al mismo metodo de nuevo para el nuevo conjunto que es el playlists_conjunto\n",
        "    if(Nueva_Iteracion==[] or Nueva_frecuencias==[]): #Verificar que no nos retorne vacios\n",
        "      return playlists_candidatos_posibles,playlist_frecuencias_candidatos # retornar playlists_candidatos_posibles y playlist_frecuencias_candidatos\n",
        "    else:\n",
        "      return Nueva_Iteracion,Nueva_frecuencias # retornar Nueva_Iteracion y Nueva_frecuencias\n",
        "\"\"\"\n",
        "Metodo para buscar el soporte(Ocurrencia/cantidad playlists) de de un conjunto ingresado como prarametro \n",
        "\"\"\"     \n",
        "def Buscar_Soporte_Itemets(frequent_itemsets,Soporte,ConjuntoEvaluar):                  # Frequent_itemsets[0]: lista de canciones candidatas ,  frequent_itemsets[1]: Frecuencias de las canciones candidatas  frequent_itemsets[2]: Cantidad de playlists\n",
        "  for i in range(len(frequent_itemsets[0])):                                            # Recorrer el conjunto de canciones candidatas(Frequent_itemsets[0]) \n",
        "    Fre=frequent_itemsets[0][i]                                                         # Extraer El conjunto de canciones de frequent_itemsets[0]\n",
        "    for j in range(len(Fre)):                                                           # Recorrer cada cancion de Fre\n",
        "      Musicas=Fre[j]                                                                    # Extraer la cancion de Fre\n",
        "      Musicas=set(Musicas)                                                              # Convertir la musica en conjunto\n",
        "      if(ConjuntoEvaluar.issubset(Musicas) and (len(ConjuntoEvaluar)==len(Musicas))):   # Verificar si encontramos el soporte correspondiente a ConjuntoEvaluar\n",
        "        return Soporte[i][j]                                                            # retorna el soporte encontrado\n",
        "  return -1                                                                             # Retornar -1 si no encontro el soprote correspondiente\n",
        "\n",
        "\"\"\"\n",
        "Metodo para verificar que las reglas que se a generado proceda a validar con respecto al lift y confidence\n",
        "\"\"\"   \n",
        "def Verificar_reglas_lift_confidence(frequent_itemsets,Soporte,Reglas_itemsets,lift,confidence):\n",
        "  Nuevas_Reglas=[]\n",
        "  ResultadoFinal=[]                                                                     # Arreglo donde se almacenara las nuevas reglas con cumplen la condicion de lift y confidence\n",
        "  for Regla in Reglas_itemsets:                                                         # Recorrer las reglas que contiene Reglas_itemsets\n",
        "    ArregloIz=Regla[0]                                                                  # Canciones de lado izquierdo (izquierdo  => derecho)\n",
        "    ArregloDe=Regla[1]                                                                  # Canciones de lado derecho (izquierdo  => derecho)\n",
        "    ArregloIz=set(ArregloIz)                                                            # Convetir en conjunto\n",
        "    ArregloDe=set(ArregloDe)                                                            # Convetir en conjunto\n",
        "\n",
        "    # Realizar operacion para verificar si comple con lift\n",
        "    Numerador=Buscar_Soporte_Itemets(frequent_itemsets,Soporte,ArregloIz | ArregloDe)   \n",
        "    Denominador=Buscar_Soporte_Itemets(frequent_itemsets,Soporte,ArregloIz)*Buscar_Soporte_Itemets(frequent_itemsets,Soporte,ArregloDe)\n",
        "    Resultado=Numerador/Denominador\n",
        "    if(Resultado>=lift):#verificar que cumpla la condicion\n",
        "      # Realizar operacion para verificar si comple con confidence\n",
        "      Numerador=Buscar_Soporte_Itemets(frequent_itemsets,Soporte,ArregloIz | ArregloDe)\n",
        "      Denominador=Buscar_Soporte_Itemets(frequent_itemsets,Soporte,ArregloIz)\n",
        "      Resultado=Numerador/Denominador\n",
        "      if(Resultado>=confidence):#Verificar que se cumpla\n",
        "        Nuevas_Reglas.append(Regla) # Si se cumplio las 2 condiciones entonces esta reglas es valida por lo que se agregar en Nuevas_Reglas\n",
        "        ResultadoFinal.append(Resultado)\n",
        "  return Nuevas_Reglas,ResultadoFinal # Retornar la reglas nuevas validadas\n",
        "\n",
        "\"\"\"\n",
        "Metodo mostar las reglas finales\n",
        "\"\"\"  \n",
        "def MortrarReglas(Reglas_lift_confidence):\n",
        "  for i in Reglas_lift_confidence:\n",
        "    for j in i:\n",
        "      print(j[0],\" => \",j[1])\n",
        "\n",
        "\"\"\"\n",
        "Metodos Para realizar una combinatoria en un arreglo\n",
        "\"\"\"  \n",
        "def potencia(pValor):\n",
        "    if len(pValor) == 0:\n",
        "        return [[]]\n",
        "    r = potencia(pValor[:-1])\n",
        "    return r + [s + [pValor[-1]] for s in r]\n",
        "def combinaciones(A, pValor):\n",
        "    return [s for s in potencia(A) if len(s) == pValor]\n",
        "\"\"\"\n",
        "Metodos extraer el complemento de un subArreglo de un Arrglo (Ejemplos: ([1,2,3],[3]) = [1,2] )\n",
        "\"\"\"     \n",
        "def Get_Arreglo_Sobrante(Arreglo,SubArreglo):\n",
        "  ArregloResultante=[]\n",
        "  for i in Arreglo:\n",
        "    if(not(i in SubArreglo)):\n",
        "      ArregloResultante.append(i)\n",
        "  return ArregloResultante\n",
        "\"\"\"\n",
        "Metodos generar ya las reglas de un solo itemsets\n",
        "\"\"\"     \n",
        "def Generar_Reglas(A):\n",
        "  Reglas=[]\n",
        "  for i in range(len(A)-1):\n",
        "    Combinacion=combinaciones(A, i+1)\n",
        "    for j in range(len(Combinacion)):\n",
        "      CombinacionRestante=combinaciones(Get_Arreglo_Sobrante(A,Combinacion[j]),(len(A)-(i+1)))\n",
        "      Reglas.append([Combinacion[j],CombinacionRestante[0]])\n",
        "  return Reglas"
      ],
      "execution_count": 40,
      "outputs": []
    },
    {
      "cell_type": "markdown",
      "metadata": {
        "id": "QQ8hnuqdOXsk"
      },
      "source": [
        "**Motodos Principales para el algoritmo apriori (metodos propios)**"
      ]
    },
    {
      "cell_type": "code",
      "metadata": {
        "id": "dUYj3JLcjSoF"
      },
      "source": [
        "\"\"\"\n",
        "Recibe la esctructura de datos que contiene a las playlists y retorna una estructura con los itemsets fre-\n",
        "cuentes, bajo un umbral mínimo de confianza.\n",
        "\"\"\"\n",
        "def get_frequent_itemsets(playlists, min_support):\n",
        "  playlists_conjunto=set()                            # Múltiples playlists de la plataforma spotify\n",
        "  playlists_arreglo=[]                                # Arreglo de itemsets de playlists\n",
        "  for i in playlists:                                 # Recorrer múltiples playlists de la plataforma spotify\n",
        "    playlists_conjunto|=set(playlists[i])             # Agregar un playlists en el conjunto \"playlists_conjunto\" para obtener una lista de canciones sin repetir\n",
        "    playlists_arreglo.append(set(playlists[i]))       # Agregar un playlists en el arreglo \"playlists_arreglo\"\n",
        "  Cantidad_playlists=len(playlists_arreglo)           # Cantidad de playlists que existen en la plataforma spotify\n",
        "  playlists_candidatos_posibles=[]\n",
        "  playlist_frecuencias_candidatos=[]\n",
        "  playlists_candidatos_posibles=Iteraciones_candidatos(playlists_arreglo,Convertir_unidimensional_bidimensional(list(playlists_conjunto)),min_support,playlists_candidatos_posibles,playlist_frecuencias_candidatos,0)\n",
        "  return playlists_candidatos_posibles\n",
        "\"\"\"\n",
        "Recibe los itemsets frecuentes generados por la función anterior y retorna las\n",
        "reglas de asociación. Se le puede entregar umbrales de confianza o lift para las\n",
        "reglas que se retornarán. Por ejemplo, si se llama esta función con los ar- gumentos\n",
        "confidence = 0.5 y lift = 1.2, se espera que se retornen aquellas reglas que\n",
        "cumplan con una confianza ≥ 0.5 y un lift ≥ 1.2.\n",
        "\"\"\"\n",
        "def generate_association_rules(frequent_itemsets, confidence = 0, lift = 0):\n",
        "  #Determinando el soporte de las frecuencias de los frequent_itemsets\n",
        "  Soporte=[]\n",
        "  for i in frequent_itemsets[1]:\n",
        "    SoporteAux=[]\n",
        "    for j in range(len(i)):\n",
        "      SoporteAux.append(i[j]/frequent_itemsets[2])\n",
        "    Soporte.append(SoporteAux)\n",
        "  items_frecuentes=frequent_itemsets[0][len(frequent_itemsets)-1]\n",
        "  Reglas_en_general=[]\n",
        "  Resultado_association_rules=[]\n",
        "  for i in range(len(items_frecuentes)):\n",
        "    Reglas_itemsets=Generar_Reglas(items_frecuentes[i])\n",
        "    Reglas_lift_confidence,ResultadoFinal=Verificar_reglas_lift_confidence(frequent_itemsets,Soporte,Reglas_itemsets,lift,confidence)\n",
        "    Reglas_en_general.append(Reglas_lift_confidence)\n",
        "    Resultado_association_rules.append(ResultadoFinal)\n",
        "  return Reglas_en_general,Resultado_association_rules\n",
        "         "
      ],
      "execution_count": 34,
      "outputs": []
    },
    {
      "cell_type": "code",
      "metadata": {
        "id": "xMMw5hfUmwxE"
      },
      "source": [
        "def Algoritmo_Apriori():\n",
        "  playlists = Leer_archivo_npy(\"spotify.npy\")#Leer el archivo .npy\n",
        "  playlists_candidatos_posibles,FrecuencasCandidatas=get_frequent_itemsets(playlists,0.0001)\n",
        "  Reglas_asociacion,Resultados=generate_association_rules([playlists_candidatos_posibles,FrecuencasCandidatas,len(playlists)], confidence = 0.5, lift =1)\n",
        "  return Reglas_asociacion,Resultados"
      ],
      "execution_count": 35,
      "outputs": []
    },
    {
      "cell_type": "markdown",
      "metadata": {
        "id": "qKTgEgrOVOWv"
      },
      "source": [
        "#2. Aplicar el algoritmo y obtener reglas de asociación"
      ]
    },
    {
      "cell_type": "markdown",
      "metadata": {
        "id": "llQ6KfaEViV3"
      },
      "source": [
        "**Deberás aplicar el algoritmo implementado en la base de datos entregada y filtrar las\n",
        "mejores 10 reglas de asociación de acuerdo a dos criterios de calidad definidos por\n",
        "ti. Deberás explicar por qué elegiste estos criterios.**"
      ]
    },
    {
      "cell_type": "markdown",
      "metadata": {
        "id": "_pPWySr611CF"
      },
      "source": [
        ">La siguiente instruccion es para obtener las reglas de asociacion con sus respectivos resutlados(umbral de confianza) de dataset spotify.npy\n",
        "(NOTA: su tiempo de ejecucion es mas de 1-3 horas)"
      ]
    },
    {
      "cell_type": "code",
      "metadata": {
        "id": "OLG_gjJVVNu4"
      },
      "source": [
        "Reglas_asociacion,Resultados=Algoritmo_Apriori()"
      ],
      "execution_count": null,
      "outputs": []
    },
    {
      "cell_type": "markdown",
      "metadata": {
        "id": "rcjJLjVg2QnG"
      },
      "source": [
        ">Como el algoritmo demora demasiado(es dificil dejarlo en computador prendido compilando ya que produce un en el servidor de tiempo excedido) y no puedo esta ejecutandolo para ver si el algoirtmo se implemento exitosamente por lo se procedio a tomar como referencias los siguientes ejemplos de internet para su implementacion exitosa.\n",
        "\n",
        "\n",
        "1.   https://es.myservername.com/apriori-algorithm-data-mining\n",
        "2.   https://www.cienciadedatos.net/documentos/43_reglas_de_asociacion\n",
        "\n",
        ">Teniendo estos ejemplos se procedio a usar uno de ellos que a continuacion son las siguientes instrucciones\n",
        "\n"
      ]
    },
    {
      "cell_type": "code",
      "metadata": {
        "colab": {
          "base_uri": "https://localhost:8080/"
        },
        "id": "UhJAOMrGWXDx",
        "outputId": "05243638-bd95-4f3f-fd73-a36fc95c55ce"
      },
      "source": [
        "#de duplico el metodo de get_frequent_itemsets por que como es un arreglo definido algunos parametro cambia\n",
        "def get_frequent_itemsets_2(playlists, min_support):\n",
        "  playlists_conjunto=set()                            # Múltiples playlists de la plataforma spotify\n",
        "  playlists_arreglo=[]                                # Arreglo de itemsets de playlists\n",
        "  for i in playlists:                                 # Recorrer múltiples playlists de la plataforma spotify\n",
        "    playlists_conjunto|=set(i)                        # Agregar un playlists en el conjunto \"playlists_conjunto\" para obtener una lista de canciones sin repetir\n",
        "    playlists_arreglo.append(set(i))                  # Agregar un playlists en el arreglo \"playlists_arreglo\"\n",
        "  Cantidad_playlists=len(playlists_arreglo)           # Cantidad de playlists que existen en la plataforma spotify\n",
        "  playlists_candidatos_posibles=[]\n",
        "  playlist_frecuencias_candidatos=[]\n",
        "  playlists_candidatos_posibles=Iteraciones_candidatos(playlists_arreglo,Convertir_unidimensional_bidimensional(list(playlists_conjunto)),min_support,playlists_candidatos_posibles,playlist_frecuencias_candidatos,0)\n",
        "  return playlists_candidatos_posibles\n",
        "def Algoritmo_Apriori_2():\n",
        "  playlists = [[\"I2\",\"I1\",\"I3\"],\n",
        "               [\"I2\",\"I3\",\"I4\"],\n",
        "               [\"I4\",\"I5\"],\n",
        "               [\"I1\",\"I2\",\"I4\"],\n",
        "               [\"I1\",\"I2\",\"I3\",\"I5\"],\n",
        "               [\"I1\",\"I2\",\"I3\",\"I4\"]]\n",
        "  playlists_candidatos_posibles,FrecuencasCandidatas=get_frequent_itemsets_2(playlists,eval(\"3/6\"))\n",
        "  Reglas_asociacion,Resultados=generate_association_rules([playlists_candidatos_posibles,FrecuencasCandidatas,len(playlists)], confidence = 0, lift =0)\n",
        "  return Reglas_asociacion,Resultados\n",
        "\n",
        "Reglas,Resultado=Algoritmo_Apriori_2()\n",
        "print(\"==> Reglas generadas \")\n",
        "MortrarReglas(Reglas)\n",
        "print(\"==> umbral de confianza respectivamente a cada regla \")\n",
        "print(Resultado)"
      ],
      "execution_count": 44,
      "outputs": [
        {
          "output_type": "stream",
          "name": "stdout",
          "text": [
            "==> Reglas generadas \n",
            "['I1']  =>  ['I2', 'I3']\n",
            "['I2']  =>  ['I1', 'I3']\n",
            "['I3']  =>  ['I1', 'I2']\n",
            "['I1', 'I2']  =>  ['I3']\n",
            "['I1', 'I3']  =>  ['I2']\n",
            "['I2', 'I3']  =>  ['I1']\n",
            "==> umbral de confianza respectivamente a cada regla \n",
            "[[0.75, 0.6, 0.75, 0.75, 1.0, 0.75]]\n"
          ]
        }
      ]
    },
    {
      "cell_type": "markdown",
      "metadata": {
        "id": "ns6uiW39Vb3_"
      },
      "source": [
        "#3. Explicar las reglas obtenidas"
      ]
    },
    {
      "cell_type": "markdown",
      "metadata": {
        "id": "-Bz4UIvcWOZv"
      },
      "source": [
        "**Deberás seleccionar 4 reglas y comentar su calidad de acuerdo a los diferentes indicadores disponibles (support, confidence y lift). Además, según el género y/o el artista de las canciones (que puedes buscar según el nombre de la canción) deberás darle una breve interpretación a las reglas.**"
      ]
    },
    {
      "cell_type": "markdown",
      "metadata": {
        "id": "033PGakw1Nz-"
      },
      "source": [
        "Al ser muchos datos,la demora de copilacion del algoritmo apriori es muy lenta por lo que no es dificil estar compilado cada rato por lo que de decidio tomar como referencia un ejemplo del internet la cual este algoritmo implementado lo compila exitosamente"
      ]
    },
    {
      "cell_type": "markdown",
      "metadata": {
        "id": "8DAd04Yh1Ahu"
      },
      "source": [
        ">Explicacion: Tomando como referencia ejemplos del internet y asociandolo como si fueran canciones su interpretacion es la siguiente\n",
        "\n",
        "\n",
        "\n",
        "1. ['I1']  =>  ['I2', 'I3'] :Indica que los que escuchan la cancion I1 es probable que tambien escuchen las canciones I2 y I3\n",
        "2. ['I2']  =>  ['I1', 'I3'] :Indica que los que escuchan la cancion I2 es probable que tambien escuchen las canciones I1 y I3\n",
        "3. ['I3']  =>  ['I1', 'I2'] :Indica que los que escuchan la cancion I3 es probable que tambien escuchen las canciones I1 y I2\n",
        "4. ['I1', 'I2']  =>  ['I3'] :Indica que los que escuchan la cancion I1 y T2 es probable que tambien escuchen la cancion I3\n"
      ]
    }
  ]
}