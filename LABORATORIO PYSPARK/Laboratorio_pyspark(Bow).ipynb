{
  "nbformat": 4,
  "nbformat_minor": 0,
  "metadata": {
    "colab": {
      "name": "Laboratorio pyspark(Bow).ipynb",
      "provenance": []
    },
    "kernelspec": {
      "name": "python3",
      "display_name": "Python 3"
    },
    "language_info": {
      "name": "python"
    }
  },
  "cells": [
    {
      "cell_type": "markdown",
      "source": [
        "# **Laboratorio pyspark(Bow)**\n",
        "\n",
        "> **AUTOR :** Sarco Jacinto Daniel Eduardo.\n",
        "\n",
        "> **CODIGO :** 174452."
      ],
      "metadata": {
        "id": "IhP5B2zPDSFA"
      }
    },
    {
      "cell_type": "markdown",
      "source": [
        "##**Librerias Utilizar**##"
      ],
      "metadata": {
        "id": "xRcV5_LJDgJ4"
      }
    },
    {
      "cell_type": "code",
      "source": [
        "!pip install pyspark"
      ],
      "metadata": {
        "colab": {
          "base_uri": "https://localhost:8080/"
        },
        "id": "Ygu0CxLHDhSy",
        "outputId": "848ad753-27e7-4319-f53a-ec3120259699"
      },
      "execution_count": null,
      "outputs": [
        {
          "output_type": "stream",
          "name": "stdout",
          "text": [
            "Collecting pyspark\n",
            "  Downloading pyspark-3.2.0.tar.gz (281.3 MB)\n",
            "\u001b[K     |████████████████████████████████| 281.3 MB 40 kB/s \n",
            "\u001b[?25hCollecting py4j==0.10.9.2\n",
            "  Downloading py4j-0.10.9.2-py2.py3-none-any.whl (198 kB)\n",
            "\u001b[K     |████████████████████████████████| 198 kB 67.5 MB/s \n",
            "\u001b[?25hBuilding wheels for collected packages: pyspark\n",
            "  Building wheel for pyspark (setup.py) ... \u001b[?25l\u001b[?25hdone\n",
            "  Created wheel for pyspark: filename=pyspark-3.2.0-py2.py3-none-any.whl size=281805912 sha256=70885cf31d89f721a0884fee0ab361581d86cdf7a17ea76e3a1fd5d2d9442952\n",
            "  Stored in directory: /root/.cache/pip/wheels/0b/de/d2/9be5d59d7331c6c2a7c1b6d1a4f463ce107332b1ecd4e80718\n",
            "Successfully built pyspark\n",
            "Installing collected packages: py4j, pyspark\n",
            "Successfully installed py4j-0.10.9.2 pyspark-3.2.0\n"
          ]
        }
      ]
    },
    {
      "cell_type": "code",
      "source": [
        "from pyspark import SparkContext\n",
        "from pyspark import SparkContext, SparkConf\n",
        "sc = SparkContext()"
      ],
      "metadata": {
        "id": "HKu7DdUCDiF5"
      },
      "execution_count": null,
      "outputs": []
    },
    {
      "cell_type": "markdown",
      "source": [
        ">**Bag of Word**"
      ],
      "metadata": {
        "id": "8Q-yUrumDxfw"
      }
    },
    {
      "cell_type": "code",
      "source": [
        "def BagOfWords(pCorpus):\n",
        "    x=pCorpus.strip().lower().split()\n",
        "    return list(filter(lambda x:len(x)>2,x))"
      ],
      "metadata": {
        "id": "AXII-z3MDvD_"
      },
      "execution_count": 61,
      "outputs": []
    },
    {
      "cell_type": "code",
      "source": [
        "Corpus = [\"I spent the evening with my girlfriend, watching TV on the sofa\"]\n",
        "Texto=sc.parallelize(Corpus,3)\n",
        "Texto=Texto.map(BagOfWords)\n",
        "print(Texto.collect())"
      ],
      "metadata": {
        "id": "8YOndsmSD5Kx",
        "colab": {
          "base_uri": "https://localhost:8080/"
        },
        "outputId": "d1a76018-c7b6-4400-9e8e-e154f9655fc0"
      },
      "execution_count": 62,
      "outputs": [
        {
          "output_type": "stream",
          "name": "stdout",
          "text": [
            "[['spent', 'the', 'evening', 'with', 'girlfriend,', 'watching', 'the', 'sofa']]\n"
          ]
        }
      ]
    }
  ]
}