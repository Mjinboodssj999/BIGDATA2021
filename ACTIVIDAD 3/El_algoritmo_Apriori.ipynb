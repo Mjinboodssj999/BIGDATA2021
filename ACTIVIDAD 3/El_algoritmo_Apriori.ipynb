{
  "nbformat": 4,
  "nbformat_minor": 0,
  "metadata": {
    "colab": {
      "name": "El algoritmo Apriori.ipynb",
      "provenance": [],
      "collapsed_sections": []
    },
    "kernelspec": {
      "name": "python3",
      "display_name": "Python 3"
    },
    "language_info": {
      "name": "python"
    }
  },
  "cells": [
    {
      "cell_type": "markdown",
      "metadata": {
        "id": "BrYLc7dRfOvu"
      },
      "source": [
        "**Librerias a usar**\n",
        "\n",
        "\n",
        "\n",
        "\n",
        "\n"
      ]
    },
    {
      "cell_type": "code",
      "metadata": {
        "id": "69VKnuvzehQQ"
      },
      "source": [
        "import numpy as np"
      ],
      "execution_count": 118,
      "outputs": []
    },
    {
      "cell_type": "markdown",
      "metadata": {
        "id": "K_OsCGd0g6o3"
      },
      "source": [
        "**Metodos**"
      ]
    },
    {
      "cell_type": "code",
      "metadata": {
        "id": "_0zf_RRiD3P1"
      },
      "source": [
        "\"\"\"\n",
        "Combinar de a 2 un conjunto de datos\n",
        "\"\"\"\n",
        "def Combinatoria(itemsets):\n",
        "  Combinacion=dict()\n",
        "  Count=0\n",
        "  for i in range(len(itemsets)):\n",
        "    for j in range(i+1,len(itemsets)):\n",
        "      Combinacion[Count]=set([list(itemsets)[i],list(itemsets)[j]])\n",
        "      Count+=1\n",
        "  return Combinacion"
      ],
      "execution_count": 119,
      "outputs": []
    },
    {
      "cell_type": "code",
      "metadata": {
        "id": "5ZwojcrWNsJb"
      },
      "source": [
        "\"\"\"\n",
        "Recibe la combinatoria de 2 elementos del conjunto para proceder a comprar el conjunto con otros conjunto sus elemento menos el ultimo\n",
        "y hallar nuevamente su frecuencia hasta que no cumpla que debe como minimo min_support\n",
        "\"\"\"\n",
        "def Comparacion_combinatoria2(Combinatoria2,Canciones,min_support):\n",
        "  NuevaFrecuencia=dict()\n",
        "  for i in Combinatoria2:\n",
        "    NuevaFrecuencia[i]=0\n",
        "  for i in Combinatoria2:\n",
        "    for j in Canciones:\n",
        "      if (Combinatoria2[i]<= j):\n",
        "        NuevaFrecuencia[i]+=1\n",
        "  frecuencias2=list(NuevaFrecuencia.values())\n",
        "  frecuencias2.sort()\n",
        "  Nuevo_itemsets_frequent=[]\n",
        "  for i in NuevaFrecuencia:\n",
        "    if NuevaFrecuencia[i]>min_support:\n",
        "      Nuevo_itemsets_frequent.append(list(combinacion_2[i]))\n",
        "  Nuevo_itemsets_frequent.sort()\n"
      ],
      "execution_count": 120,
      "outputs": []
    },
    {
      "cell_type": "code",
      "metadata": {
        "id": "uK4OZZiAfqfX"
      },
      "source": [
        "\"\"\"\n",
        "Recibe la esctructura de datos que contiene a las playlists y retorna una estructura con los itemsets fre-\n",
        "cuentes, bajo un umbral mínimo de confianza.\n",
        "\"\"\"\n",
        "def get_frequent_itemsets(playlists, min_support):\n",
        "  Canciones=set()#conjunto de canciones en el playlists\n",
        "  playlist=[]#Arreglo de itemsets de playlists\n",
        "  for i in playlists:#recoorrer el playlists para obtener un conjunto de canciones(conjunto para que no se repita las canciones en todo el playlists) \n",
        "    Canciones|=set(playlists[i])#Union de conjuntos para cada subconjunto de playlists y alamcenarlo en Canciones\n",
        "    playlist.append(set(playlists[i]))#Agregar un subconjunto de playlists en el arreglo playlist\n",
        "  itemset = dict()#Definimos un diccionario\n",
        "  for i in Canciones:#iniciamos en el diccionario que todas las canciones empiezan con una frecuencia de 0\n",
        "    itemset[i] = 0 #Cada itemset tendra como clave su frecuencia respectiva en el diccionario\n",
        "  for i in range(len(playlist)):#Cada subconjunto(playlist) sacamos su frecuencia correspondiente\n",
        "    item=playlist[i]\n",
        "    for j in item:#Sumamos en 1 la canciones que se encuentran en el diccionario itemset\n",
        "      itemset[j] += 1\n",
        "  frecuenciasItemSets=list(itemset.values())#listamos las frecuencias de playlists\n",
        "  frecuenciasItemSets.sort()#Ordenamos de menor a mayor las frecuencias\n",
        "\n",
        "  itemsets_frecuentes=set()\n",
        "  for i in itemset:#Recorrer el diccionario y verificar que su clave se mayor que el min_support\n",
        "    if(itemset[i]>min_support):#verificamos que sea mayor que min_support\n",
        "       itemsets_frecuentes.add(i)#agregamos a conjunto itemsets_frecuentes\n",
        "\n",
        "  #Generamos los itemsets frecuentes\n",
        "  Combinatoria2=Combinatoria(itemsets_frecuentes)#Hacemos combinatoria entre 2 canciones\n",
        "  #ya teniendo la combinatoria procedemos a comparar el nuevo conjunto de 2 elementos compararando todo el conjunto menos el ultimo\n",
        "  #itemsets_frecuentes_Cadidatos=Comparacion_combinatoria2(Combinatoria2,Canciones,min_support);\n",
        "  #print(itemsets_frecuentes_Cadidatos)\n",
        "  print(Combinatoria2)\n",
        "\n",
        "  return 1;\n"
      ],
      "execution_count": 124,
      "outputs": []
    },
    {
      "cell_type": "code",
      "metadata": {
        "id": "YzHfEJbggWsV"
      },
      "source": [
        "\"\"\"\n",
        "Recibe los itemsets frecuentes generados por la función anterior y retorna las\n",
        "reglas de asociación. Se le puede entregar umbrales de confianza o lift para las\n",
        "reglas que se retornarán. Por ejemplo, si se llama esta función con los ar- gumentos\n",
        "confidence = 0.5 y lift = 1.2, se espera que se retornen aquellas reglas que\n",
        "cumplan con una confianza ≥ 0.5 y un lift ≥ 1.2.\n",
        "\"\"\"\n",
        "def generate_association_rules(frequent_itemsets, confidence = 0, lift =0):\n",
        "  print(\"En Proceso\")\n",
        "  return 0;"
      ],
      "execution_count": 126,
      "outputs": []
    },
    {
      "cell_type": "code",
      "metadata": {
        "id": "pxQ7UlluCXJm"
      },
      "source": [
        ""
      ],
      "execution_count": null,
      "outputs": []
    },
    {
      "cell_type": "markdown",
      "metadata": {
        "id": "JaTknvCWhVRP"
      },
      "source": [
        "**Apriori**"
      ]
    },
    {
      "cell_type": "code",
      "metadata": {
        "colab": {
          "base_uri": "https://localhost:8080/"
        },
        "id": "QfldUZ0OhUvE",
        "outputId": "d233851e-491b-463f-c233-3c4e341dca0e"
      },
      "source": [
        "#Cargamos el archivo spotify.npy con numpy\n",
        "Data = np.load('spotify.npy',allow_pickle=True)\n",
        "#Convertir nuestra Data en una lista.\n",
        "playlists=Data.tolist()\n",
        "#Obtener una estructura con los itemsets frecuentes,debajo un umbral minimo de 140\n",
        "playlist_frecuentes=get_frequent_itemsets(playlists, 140)\n",
        "association_rules=generate_association_rules(playlist_frecuentes, confidence = 0.5, lift =0.2)\n",
        "print(association_rules)"
      ],
      "execution_count": 127,
      "outputs": [
        {
          "output_type": "stream",
          "name": "stderr",
          "text": [
            "IOPub data rate exceeded.\n",
            "The notebook server will temporarily stop sending output\n",
            "to the client in order to avoid crashing it.\n",
            "To change this limit, set the config variable\n",
            "`--NotebookApp.iopub_data_rate_limit`.\n",
            "\n",
            "Current values:\n",
            "NotebookApp.iopub_data_rate_limit=1000000.0 (bytes/sec)\n",
            "NotebookApp.rate_limit_window=3.0 (secs)\n",
            "\n"
          ]
        }
      ]
    }
  ]
}